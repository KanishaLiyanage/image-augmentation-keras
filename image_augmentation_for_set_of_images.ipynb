{
 "cells": [
  {
   "cell_type": "code",
   "execution_count": 6,
   "metadata": {},
   "outputs": [],
   "source": [
    "import os\n",
    "import keras\n",
    "import numpy as np\n",
    "from PIL import Image\n",
    "from skimage import io\n",
    "import matplotlib.pyplot as plt\n",
    "from keras.preprocessing.image import ImageDataGenerator"
   ]
  },
  {
   "cell_type": "code",
   "execution_count": 7,
   "metadata": {},
   "outputs": [],
   "source": [
    "image_directory = r'C:/Users/Kanisha Liyanage/Documents/Deep Learning Projects/image-augmentation/fear/'"
   ]
  },
  {
   "cell_type": "code",
   "execution_count": 8,
   "metadata": {},
   "outputs": [],
   "source": [
    "my_images = os.listdir(image_directory)\n",
    "dataset = []"
   ]
  },
  {
   "cell_type": "code",
   "execution_count": 10,
   "metadata": {},
   "outputs": [],
   "source": [
    "datagen = ImageDataGenerator(\n",
    "                            rotation_range = 30,\n",
    "                            width_shift_range = 0.2,\n",
    "                            height_shift_range = 0.2,\n",
    "                            shear_range = 0.2,\n",
    "                            horizontal_flip = True,\n",
    "                            fill_mode = 'nearest',\n",
    "                            )"
   ]
  },
  {
   "cell_type": "code",
   "execution_count": 11,
   "metadata": {},
   "outputs": [],
   "source": [
    "for i, image_name in enumerate(my_images):    \n",
    "    if (image_name.split('.')[1] == 'jpg'):        \n",
    "        image = keras.utils.load_img(image_directory + image_name)    \n",
    "        image = np.array(image)\n",
    "        dataset.append(image)\n",
    "\n",
    "x = np.array(dataset)\n",
    "\n",
    "i = 0\n",
    "for batch in datagen.flow(x, batch_size = 5,\n",
    "                          save_to_dir = r'C:/Users/Kanisha Liyanage/Documents/Deep Learning Projects/image-augmentation/augmented images/fear',\n",
    "                          save_prefix = 'Augmented',\n",
    "                          save_format = 'jpg'):    \n",
    "    i += 1    \n",
    "    if i > 5:        \n",
    "        break"
   ]
  },
  {
   "cell_type": "code",
   "execution_count": null,
   "metadata": {},
   "outputs": [],
   "source": []
  }
 ],
 "metadata": {
  "kernelspec": {
   "display_name": "tensorflow",
   "language": "python",
   "name": "python3"
  },
  "language_info": {
   "codemirror_mode": {
    "name": "ipython",
    "version": 3
   },
   "file_extension": ".py",
   "mimetype": "text/x-python",
   "name": "python",
   "nbconvert_exporter": "python",
   "pygments_lexer": "ipython3",
   "version": "3.9.13"
  },
  "orig_nbformat": 4,
  "vscode": {
   "interpreter": {
    "hash": "dfbca90334721b44a29d4de03b103f58bebe0bc1281e5cc1266a316e3a6bbcad"
   }
  }
 },
 "nbformat": 4,
 "nbformat_minor": 2
}
